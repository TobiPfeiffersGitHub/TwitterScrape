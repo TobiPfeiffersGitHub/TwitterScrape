{
  "nbformat": 4,
  "nbformat_minor": 0,
  "metadata": {
    "colab": {
      "provenance": []
    },
    "kernelspec": {
      "name": "python3",
      "display_name": "Python 3"
    },
    "language_info": {
      "name": "python"
    }
  },
  "cells": [
    {
      "cell_type": "code",
      "execution_count": 2,
      "metadata": {
        "id": "5__6RudNsGJQ"
      },
      "outputs": [],
      "source": [
        "import numpy as np\n",
        "import json\n",
        "import glob\n",
        "\n",
        "#Gensim\n",
        "import gensim\n",
        "import gensim.corpora as corpora\n",
        "from gensim.utils import simple_preprocess\n",
        "from gensim.models import CoherenceModel\n",
        "\n",
        "#spacy\n",
        "import spacy\n",
        "from nltk.corpus import stopwords\n",
        "\n",
        "#vis\n",
        "import pyLDAvis.gensim_models\n",
        "import pyLDAvis.gensim"
      ]
    },
    {
      "cell_type": "code",
      "source": [
        "# data_words are the preprocessed words \n",
        "id2word = corpora.Dictionary(data_words)\n",
        "\n",
        "# initiate the corpus\n",
        "corpus = []\n",
        "for text in data_words:\n",
        "    new = id2word.doc2bow(text)\n",
        "    corpus.append(new)\n",
        "\n",
        "print (corpus[0][0:20])\n",
        "\n",
        "word = id2word[[0][:1][0]]\n",
        "print (word)"
      ],
      "metadata": {
        "id": "DgMiWMnLskS7"
      },
      "execution_count": null,
      "outputs": []
    },
    {
      "cell_type": "code",
      "source": [
        "lda = gensim.models.ldamodel.LdaModel(corpus=corpus,\n",
        "                                      id2word=id2word,\n",
        "                                      num_topics=10,\n",
        "                                      random_state=420,\n",
        "                                      update_every=1,\n",
        "                                      chunksize=100,\n",
        "                                      passes=10,\n",
        "                                      alpha=\"auto\")"
      ],
      "metadata": {
        "id": "Hj2xBh5xtOcw"
      },
      "execution_count": null,
      "outputs": []
    },
    {
      "cell_type": "code",
      "source": [
        "pyLDAvis.enable_notebook()\n",
        "vis = pyLDAvis.gensim.prepare(lda, corpus, id2word, mds=\"mmds\", R=30)\n",
        "vis"
      ],
      "metadata": {
        "id": "1-ZbaEiRtX5Z"
      },
      "execution_count": null,
      "outputs": []
    }
  ]
}